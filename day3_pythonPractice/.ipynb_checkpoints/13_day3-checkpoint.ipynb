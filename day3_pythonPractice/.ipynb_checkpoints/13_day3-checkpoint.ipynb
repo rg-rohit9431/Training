{
 "cells": [
  {
   "cell_type": "code",
   "execution_count": 3,
   "id": "5cfa6e21-1b25-4b0c-9b1c-a610ea23271e",
   "metadata": {},
   "outputs": [
    {
     "name": "stdout",
     "output_type": "stream",
     "text": [
      "Hello world\n"
     ]
    }
   ],
   "source": [
    "# hi world kya hal chal\n",
    "print(\"Hello world\")"
   ]
  },
  {
   "cell_type": "code",
   "execution_count": 5,
   "id": "bb1e50e7-8107-40e5-be70-94409e145b32",
   "metadata": {},
   "outputs": [
    {
     "name": "stdout",
     "output_type": "stream",
     "text": [
      "Hi Rohit Kumar Guptayour got 90 out of 100\n"
     ]
    }
   ],
   "source": [
    "num1 =  90\n",
    "num2 =  100\n",
    "name =  \"Rohit Kumar Gupta\"\n",
    "print(\"Hi \" + name + \"your got \" + str(num1) + \" out of \" + str(num2));"
   ]
  },
  {
   "cell_type": "code",
   "execution_count": 6,
   "id": "7341041c-b982-4b92-a93d-8c91a365ccc7",
   "metadata": {},
   "outputs": [
    {
     "name": "stdout",
     "output_type": "stream",
     "text": [
      "90\n",
      "100.56\n",
      "Rohit Kumar Gupta\n",
      "Number1 :  90\n",
      "Number2 : 100.56\n"
     ]
    }
   ],
   "source": [
    "num1 =  90\n",
    "num2 =  100.56\n",
    "name =  \"Rohit Kumar Gupta\"\n",
    "print(num1)\n",
    "print(num2)\n",
    "print(name)\n",
    "print(\"Number1 : \", num1)\n",
    "print(f\"Number2 : {num2}\")"
   ]
  },
  {
   "cell_type": "code",
   "execution_count": 9,
   "id": "720dfd68-798f-4ab0-ae75-86f410ad2139",
   "metadata": {},
   "outputs": [
    {
     "name": "stdout",
     "output_type": "stream",
     "text": [
      "test1 test2 test3\n",
      "test test test\n"
     ]
    }
   ],
   "source": [
    "# value is assign for valiables\n",
    "x,y,z = \"test1\",\"test2\",\"test3\"\n",
    "print(f\"{x} {y} {z}\")\n",
    "p = q = r = \"test\" \n",
    "print(f\"{p} {q} {r}\")"
   ]
  },
  {
   "cell_type": "code",
   "execution_count": 13,
   "id": "1142fa73-8a71-405c-b836-bfa33ae90777",
   "metadata": {},
   "outputs": [
    {
     "name": "stdout",
     "output_type": "stream",
     "text": [
      "<class 'int'>\n",
      "<class 'str'>\n"
     ]
    }
   ],
   "source": [
    "# type check here\n",
    "num  = 10\n",
    "name = \"hello world\"\n",
    "print(type(num))\n",
    "print(type(name))"
   ]
  },
  {
   "cell_type": "code",
   "execution_count": 14,
   "id": "f45f19b8-cdc8-4dbb-8e3d-c2f99d6543d2",
   "metadata": {},
   "outputs": [
    {
     "name": "stdout",
     "output_type": "stream",
     "text": [
      "The sum of 90 and 100 is: 190\n",
      "The product of 90 and 100 is: 9000\n"
     ]
    }
   ],
   "source": [
    "num1 = 90\n",
    "num2 = 100\n",
    "\n",
    "\n",
    "sum_result = num1 + num2\n",
    "product_result = num1 * num2\n",
    "\n",
    "print(\"The sum of\", num1, \"and\", num2, \"is:\", sum_result)\n",
    "print(\"The product of\", num1, \"and\", num2, \"is:\", product_result)\n"
   ]
  },
  {
   "cell_type": "code",
   "execution_count": 16,
   "id": "444cf816-3e8a-42ef-ae15-cb4ec2174ba0",
   "metadata": {},
   "outputs": [
    {
     "name": "stdin",
     "output_type": "stream",
     "text": [
      "Enter the first number:  34\n",
      "Enter the second number:  32\n"
     ]
    },
    {
     "name": "stdout",
     "output_type": "stream",
     "text": [
      "The sum of 34.0 and 32.0 is: 66.0\n",
      "The product of 34.0 and 32.0 is: 1088.0\n"
     ]
    }
   ],
   "source": [
    "num1 = float(input(\"Enter the first number: \"))\n",
    "num2 = float(input(\"Enter the second number: \"))\n",
    "\n",
    "sum_result = num1 + num2\n",
    "product_result = num1 * num2\n",
    "\n",
    "print(\"The sum of\", num1, \"and\", num2, \"is:\", sum_result)\n",
    "print(\"The product of\", num1, \"and\", num2, \"is:\", product_result)"
   ]
  },
  {
   "cell_type": "code",
   "execution_count": 19,
   "id": "3d3cb4c0-484d-4ac0-8149-1c6650df4b57",
   "metadata": {},
   "outputs": [
    {
     "name": "stdin",
     "output_type": "stream",
     "text": [
      "Enter the first number:  2\n",
      "Enter the second number:  3\n"
     ]
    },
    {
     "name": "stdout",
     "output_type": "stream",
     "text": [
      "expo of 2.0 3.0 is 8.0\n"
     ]
    }
   ],
   "source": [
    "num1 = float(input(\"Enter the first number: \"))\n",
    "num2 = float(input(\"Enter the second number: \"))\n",
    "\n",
    "\n",
    "sum_result = num1 ** num2\n",
    "\n",
    "print(f\"expo of {num1} {num2} is {sum_result}\")"
   ]
  },
  {
   "cell_type": "code",
   "execution_count": 24,
   "id": "4716473a-f093-47cc-852b-0cd8f9203482",
   "metadata": {},
   "outputs": [
    {
     "name": "stdout",
     "output_type": "stream",
     "text": [
      "10 10\n",
      "is num1 equal to num2:  True\n",
      "is num1  not equal to num2:  False\n",
      "is num1 greater than num2:  False\n",
      "is num1 greater than equal to num2:  True\n",
      "is num1 less than num2:  False\n",
      "is num1 less than equal to num2:  True\n"
     ]
    }
   ],
   "source": [
    "print(f\"{num1} {num2}\")\n",
    "print(\"is num1 equal to num2: \" , num1 == num2)\n",
    "print(\"is num1  not equal to num2: \" , num1 != num2)\n",
    "print(\"is num1 greater than num2: \" , num1 > num2)\n",
    "print(\"is num1 greater than equal to num2: \" , num1 >= num2)\n",
    "print(\"is num1 less than num2: \" , num1 < num2)\n",
    "print(\"is num1 less than equal to num2: \" , num1 <= num2)"
   ]
  },
  {
   "cell_type": "code",
   "execution_count": 27,
   "id": "cc977f3c-f60e-4e19-adf7-a79a308db0ed",
   "metadata": {},
   "outputs": [
    {
     "name": "stdout",
     "output_type": "stream",
     "text": [
      "Intial value:  10\n",
      "value after increment:  11\n",
      "value after decrement:  10\n"
     ]
    }
   ],
   "source": [
    "# increrement and decrement operater\n",
    "num = 10\n",
    "print(\"Intial value: \" ,num )\n",
    "num+=1\n",
    "print(\"value after increment: \" ,num )\n",
    "num-=1\n",
    "print(\"value after decrement: \" ,num )"
   ]
  },
  {
   "cell_type": "code",
   "execution_count": 35,
   "id": "3f275324-e74a-47a7-85f0-03bf6709bb25",
   "metadata": {},
   "outputs": [
    {
     "name": "stdin",
     "output_type": "stream",
     "text": [
      "Enter your email:  admin@gmail.com\n",
      "Enter your paswword:  1234\n"
     ]
    },
    {
     "name": "stdout",
     "output_type": "stream",
     "text": [
      "False\n",
      "False\n"
     ]
    }
   ],
   "source": [
    "email =  input(\"Enter your email: \")\n",
    "password =  input(\"Enter your paswword: \")\n",
    "# normal if else\n",
    "if email ==  \"admin@gmail.com\" and password == \"123\": print(True)\n",
    "else: print(False)\n",
    "# using ternary operator \n",
    "print( email == \"admin@gmail.com\" and password == \"123\") "
   ]
  },
  {
   "cell_type": "code",
   "execution_count": 37,
   "id": "cb6c5d74-af83-44ed-98f8-f3479a39bde6",
   "metadata": {},
   "outputs": [
    {
     "name": "stdout",
     "output_type": "stream",
     "text": [
      "Postive number\n"
     ]
    }
   ],
   "source": [
    "num = 10\n",
    "if num > 0:\n",
    "    print(\"Postive number\")"
   ]
  },
  {
   "cell_type": "code",
   "execution_count": 39,
   "id": "670316cc-afbd-40f0-a266-5ba846ffd6b7",
   "metadata": {},
   "outputs": [
    {
     "name": "stdout",
     "output_type": "stream",
     "text": [
      "negative number\n"
     ]
    }
   ],
   "source": [
    "num = -10\n",
    "if num > 0:\n",
    "    print(\"Postive number\")\n",
    "else :\n",
    "    print(\"negative number\")"
   ]
  },
  {
   "cell_type": "code",
   "execution_count": 41,
   "id": "d5a88c42-de88-44a0-809f-25722cd536ce",
   "metadata": {},
   "outputs": [
    {
     "name": "stdout",
     "output_type": "stream",
     "text": [
      "zero\n"
     ]
    }
   ],
   "source": [
    "num = 0\n",
    "if num > 0:\n",
    "    print(\"Postive number\")\n",
    "elif num == 0: \n",
    "    print(\"zero\")\n",
    "else :\n",
    "    print(\"negative number\")"
   ]
  },
  {
   "cell_type": "code",
   "execution_count": 47,
   "id": "83ecfa16-3a7c-4452-8d0b-023ed73984a9",
   "metadata": {},
   "outputs": [
    {
     "name": "stdout",
     "output_type": "stream",
     "text": [
      "Positive\n"
     ]
    }
   ],
   "source": [
    "num = 239871\n",
    "print(\"Positive\") if num > 0 else print(\"non-positive\")"
   ]
  },
  {
   "cell_type": "code",
   "execution_count": 48,
   "id": "cd9f9b0a-a9b8-45ba-ac16-ac81219eded4",
   "metadata": {},
   "outputs": [
    {
     "name": "stdout",
     "output_type": "stream",
     "text": [
      "Positive and Even Number\n"
     ]
    }
   ],
   "source": [
    "num = 10\n",
    "if num > 0: \n",
    "    if num % 2 == 0: \n",
    "        print(\"Positive and Even Number\")\n",
    "    else:\n",
    "        print(\"Positive and Odd Number\")\n",
    "else :\n",
    "     print(\"Negative Number\")"
   ]
  },
  {
   "cell_type": "code",
   "execution_count": 52,
   "id": "4032f23c-d73d-495c-ba5a-2ae40dfb5db4",
   "metadata": {},
   "outputs": [],
   "source": [
    "num = 10\n",
    "if num > 0:\n",
    "    pass\n",
    "else :\n",
    "    print(\"this is not execuate\")"
   ]
  },
  {
   "cell_type": "code",
   "execution_count": 60,
   "id": "6e621d05-d718-4e56-841d-01a7ddd8c242",
   "metadata": {},
   "outputs": [
    {
     "name": "stdin",
     "output_type": "stream",
     "text": [
      "Enter your marks:  99\n"
     ]
    },
    {
     "name": "stdout",
     "output_type": "stream",
     "text": [
      "Grade A\n"
     ]
    }
   ],
   "source": [
    "marks = int(input(\"Enter your marks: \"))\n",
    "\n",
    "if marks >= 90 and marks <= 100:\n",
    "    marks = \"Grade A\"\n",
    "elif marks >= 70:\n",
    "    marks = \"Grade B\"\n",
    "elif marks >= 50:\n",
    "    marks = \"Grade c\"\n",
    "elif marks < 50:\n",
    "    marks = \"Fail\"\n",
    "\n",
    "print(marks)"
   ]
  },
  {
   "cell_type": "code",
   "execution_count": 67,
   "id": "0e74bcaa-ef01-4933-8454-096a8122425d",
   "metadata": {},
   "outputs": [
    {
     "name": "stdin",
     "output_type": "stream",
     "text": [
      "Enter the Number:  8742684761\n"
     ]
    },
    {
     "name": "stdout",
     "output_type": "stream",
     "text": [
      "Positive and Odd Number\n"
     ]
    }
   ],
   "source": [
    "num = int(input(\"Enter the Number: \"))\n",
    "if num > 0: \n",
    "    if num % 2 == 0: \n",
    "        print(\"Positive and Even Number\")\n",
    "    else:\n",
    "        print(\"Positive and Odd Number\")\n",
    "elif num == 0:\n",
    "    print(\"Zero\")\n",
    "else :\n",
    "    if num < -10: \n",
    "        print(\"Negative Number below -10\")\n",
    "    else: print(\"Negative Number\")"
   ]
  },
  {
   "cell_type": "code",
   "execution_count": 70,
   "id": "02517172-345d-4a31-bd64-b76ae5e341ce",
   "metadata": {},
   "outputs": [
    {
     "name": "stdin",
     "output_type": "stream",
     "text": [
      "Enter the price:  454\n"
     ]
    },
    {
     "name": "stdout",
     "output_type": "stream",
     "text": [
      "10% discount you got\n",
      "Your Final Price is:  408.6\n"
     ]
    }
   ],
   "source": [
    "num = float(input(\"Enter the price: \"))\n",
    "if num > 500: \n",
    "    print(\"20% discount you got\")\n",
    "    num = num - num * 0.20\n",
    "elif num >= 200:\n",
    "    print(\"10% discount you got\")\n",
    "    num = num - num * 0.10\n",
    "else :\n",
    "    print(\"No discount\")\n",
    "\n",
    "print(\"Your Final Price is: \", num)"
   ]
  },
  {
   "cell_type": "code",
   "execution_count": 71,
   "id": "74af2e4c-6560-4c66-80d0-307d117a1834",
   "metadata": {},
   "outputs": [
    {
     "name": "stdout",
     "output_type": "stream",
     "text": [
      "count: 1 \n",
      "count: 2 \n",
      "count: 3 \n",
      "count: 4 \n",
      "count: 5 \n"
     ]
    }
   ],
   "source": [
    "count = 1\n",
    "while(count <= 5):\n",
    "    print(f\"count: {count} \")\n",
    "    count+=1"
   ]
  },
  {
   "cell_type": "code",
   "execution_count": 73,
   "id": "f1e56962-a248-41ac-8f12-a51b620627f5",
   "metadata": {},
   "outputs": [
    {
     "name": "stdout",
     "output_type": "stream",
     "text": [
      "num: 1 \n",
      "num: 2 \n",
      "num: 3 \n",
      "num: 4 \n",
      "num: 5 \n",
      "num: 6 \n",
      "num: 7 \n",
      "num: 8 \n",
      "num: 9 \n",
      "num: 10 \n"
     ]
    }
   ],
   "source": [
    "for num in range(1,11):\n",
    "    print(f\"num: {num} \")"
   ]
  },
  {
   "cell_type": "code",
   "execution_count": 74,
   "id": "c1ef238a-6e5d-49f0-ad8c-35223383c375",
   "metadata": {},
   "outputs": [
    {
     "name": "stdout",
     "output_type": "stream",
     "text": [
      "count: 1 \n",
      "count: 2 \n",
      "Its break time\n"
     ]
    }
   ],
   "source": [
    "count = 1\n",
    "while(count <= 5):\n",
    "    if count == 3:\n",
    "        print(\"Its break time\")\n",
    "        break\n",
    "    print(f\"count: {count} \")\n",
    "    count+=1"
   ]
  },
  {
   "cell_type": "code",
   "execution_count": 75,
   "id": "319a4f67-68a5-4301-9007-959192eb6403",
   "metadata": {},
   "outputs": [
    {
     "name": "stdout",
     "output_type": "stream",
     "text": [
      "num: 1 \n",
      "num: 2 \n",
      "Its break time\n"
     ]
    }
   ],
   "source": [
    "for num in range(1,11):\n",
    "    if num == 3:\n",
    "        print(\"Its break time\")\n",
    "        break\n",
    "    print(f\"num: {num} \")"
   ]
  },
  {
   "cell_type": "code",
   "execution_count": 80,
   "id": "e2443cb6-5265-4a6c-906b-ded6c1c32c36",
   "metadata": {},
   "outputs": [
    {
     "name": "stdout",
     "output_type": "stream",
     "text": [
      "1 \n",
      "1 2 \n",
      "1 2 3 \n",
      "1 2 3 4 \n",
      "1 2 3 4 5 \n"
     ]
    }
   ],
   "source": [
    "for i in range(1,6):\n",
    "    for j in range(1,i+1):\n",
    "        print(f\"{j} \",end =\"\")\n",
    "    print()\n"
   ]
  },
  {
   "cell_type": "code",
   "execution_count": 119,
   "id": "db9baf78-3e2b-497b-b0ec-55898b351759",
   "metadata": {},
   "outputs": [
    {
     "name": "stdin",
     "output_type": "stream",
     "text": [
      "Enter 1st number:  34\n",
      "Enter 2nd number:  89\n"
     ]
    },
    {
     "name": "stdout",
     "output_type": "stream",
     "text": [
      "34 36 38 40 42 44 46 48 50 52 54 56 58 60 62 64 66 68 70 72 74 76 78 80 82 84 86 88 \n",
      "sum : 1708\n"
     ]
    }
   ],
   "source": [
    "num1 = int(input(\"Enter 1st number: \"))\n",
    "num2 = int(input(\"Enter 2nd number: \"))\n",
    "sumE = 0\n",
    "for i in range(num1,num2+1):\n",
    "    if i % 2 == 0:\n",
    "        print(f\"{i} \",end=\"\")\n",
    "        sumE += i\n",
    "print(f\"\\nsum : {sumE}\")"
   ]
  },
  {
   "cell_type": "code",
   "execution_count": 90,
   "id": "b91faeb8-b934-4363-b604-26d20979d1fb",
   "metadata": {},
   "outputs": [
    {
     "name": "stdout",
     "output_type": "stream",
     "text": [
      "great to hear you! hello  world\n"
     ]
    }
   ],
   "source": [
    "def great():\n",
    "    print(\"great to hear you! hello world\")\n",
    "\n",
    "great()"
   ]
  },
  {
   "cell_type": "code",
   "execution_count": 92,
   "id": "2512902b-fcbd-473d-9054-147c733c9609",
   "metadata": {},
   "outputs": [
    {
     "name": "stdout",
     "output_type": "stream",
     "text": [
      "great to hear you! hello world by Rohit\n"
     ]
    }
   ],
   "source": [
    "def great(name):\n",
    "    print(f\"great to hear you! hello world by {name}\")\n",
    "\n",
    "great(\"Rohit\")"
   ]
  },
  {
   "cell_type": "code",
   "execution_count": 93,
   "id": "499ed596-3210-4b18-9088-256f186e383f",
   "metadata": {},
   "outputs": [
    {
     "name": "stdout",
     "output_type": "stream",
     "text": [
      "sum of 10 and 20 is 30\n"
     ]
    }
   ],
   "source": [
    "def great(a,b):\n",
    "    result = a + b\n",
    "    print(f\"sum of {a} and {b} is {result}\")\n",
    "    \n",
    "great(10,20)"
   ]
  },
  {
   "cell_type": "code",
   "execution_count": 94,
   "id": "6d399f0f-f497-4d38-a1f7-58e5bfdc33a9",
   "metadata": {},
   "outputs": [
    {
     "name": "stdout",
     "output_type": "stream",
     "text": [
      "great to hear you! hello world by Rohit\n",
      "great to hear you! hello world by Ram\n"
     ]
    }
   ],
   "source": [
    "def great(name =\"Ram\"):\n",
    "    print(f\"great to hear you! hello world by {name}\")\n",
    "\n",
    "great(\"Rohit\") # passing argument\n",
    "great() # using default value"
   ]
  },
  {
   "cell_type": "code",
   "execution_count": 96,
   "id": "68609102-207d-4bdd-9607-5de5fb0d5a56",
   "metadata": {},
   "outputs": [
    {
     "name": "stdout",
     "output_type": "stream",
     "text": [
      "Great to hear you! hello world by Ram and your age is 34  and from banglore\n"
     ]
    }
   ],
   "source": [
    "# calling with keyword\n",
    "def great(name, age, city):\n",
    "    print(f\"Great to hear you! hello world by {name} and your age is {age}  and from {city}\")\n",
    "\n",
    "great(age = 34, name =\"Ram\", city = \"banglore\")"
   ]
  },
  {
   "cell_type": "code",
   "execution_count": 100,
   "id": "58f756b9-541d-493d-9a5d-8b018469f5a7",
   "metadata": {},
   "outputs": [
    {
     "name": "stdin",
     "output_type": "stream",
     "text": [
      "Enter the email:  admin@gmail.com\n",
      "Enter the password:  123\n"
     ]
    },
    {
     "name": "stdout",
     "output_type": "stream",
     "text": [
      "Hi! welcome to new world\n"
     ]
    }
   ],
   "source": [
    "def login(email,password):\n",
    "    if email == \"admin@gmail.com\" and password ==\"123\":\n",
    "        print(f\"Hi! welcome to new world\")\n",
    "    else :\n",
    "        print(\"Invalid Credentials\")\n",
    "\n",
    "email = input(\"Enter the email: \")\n",
    "password =  input(\"Enter the password: \")\n",
    "\n",
    "login(email,password)"
   ]
  },
  {
   "cell_type": "code",
   "execution_count": 106,
   "id": "f19111f1-cd61-438e-9f2f-40e8ac1f105c",
   "metadata": {},
   "outputs": [
    {
     "name": "stdout",
     "output_type": "stream",
     "text": [
      "[1, 2, 3, 4]\n",
      "2\n"
     ]
    }
   ],
   "source": [
    "# list\n",
    "list = [1, 2, 3, 4]\n",
    "print(list)\n",
    "print(list[1])"
   ]
  },
  {
   "cell_type": "code",
   "execution_count": 109,
   "id": "b86b8d08-7d17-480e-8f2b-a953457648d0",
   "metadata": {},
   "outputs": [
    {
     "name": "stdout",
     "output_type": "stream",
     "text": [
      "[1, 2, 3, 4]\n",
      "[1, 2, 3, 4, 40]\n"
     ]
    }
   ],
   "source": [
    "# list and append item\n",
    "list = [1, 2, 3, 4]\n",
    "print(list)\n",
    "list.append(40)\n",
    "print(list)"
   ]
  },
  {
   "cell_type": "code",
   "execution_count": 113,
   "id": "0a7d971f-a21f-4782-afae-353cbe9d2b08",
   "metadata": {},
   "outputs": [
    {
     "name": "stdout",
     "output_type": "stream",
     "text": [
      "[1, 2, 3, 4]\n",
      "[4, 3, 2, 1]\n"
     ]
    }
   ],
   "source": [
    "# list and reverse list\n",
    "list = [1, 2, 3, 4]\n",
    "print(list)\n",
    "list.reverse()\n",
    "print(list)"
   ]
  },
  {
   "cell_type": "code",
   "execution_count": 121,
   "id": "0c72579b-7d8f-4c3d-8bd4-71502856f4b5",
   "metadata": {},
   "outputs": [
    {
     "name": "stdout",
     "output_type": "stream",
     "text": [
      "Maximum in list is : 8\n"
     ]
    },
    {
     "ename": "TypeError",
     "evalue": "'int' object is not callable",
     "output_type": "error",
     "traceback": [
      "\u001b[1;31m---------------------------------------------------------------------------\u001b[0m",
      "\u001b[1;31mTypeError\u001b[0m                                 Traceback (most recent call last)",
      "Cell \u001b[1;32mIn[121], line 3\u001b[0m\n\u001b[0;32m      1\u001b[0m \u001b[38;5;28mlist\u001b[39m \u001b[38;5;241m=\u001b[39m [\u001b[38;5;241m3\u001b[39m, \u001b[38;5;241m5\u001b[39m, \u001b[38;5;241m8\u001b[39m, \u001b[38;5;241m1\u001b[39m]\n\u001b[0;32m      2\u001b[0m \u001b[38;5;28mprint\u001b[39m(\u001b[38;5;124mf\u001b[39m\u001b[38;5;124m\"\u001b[39m\u001b[38;5;124mMaximum in list is : \u001b[39m\u001b[38;5;132;01m{\u001b[39;00m\u001b[38;5;28mmax\u001b[39m(\u001b[38;5;28mlist\u001b[39m)\u001b[38;5;132;01m}\u001b[39;00m\u001b[38;5;124m\"\u001b[39m)\n\u001b[1;32m----> 3\u001b[0m \u001b[38;5;28mprint\u001b[39m(\u001b[38;5;124mf\u001b[39m\u001b[38;5;124m\"\u001b[39m\u001b[38;5;124msum of all element of list is : \u001b[39m\u001b[38;5;132;01m{\u001b[39;00m\u001b[38;5;28;43msum\u001b[39;49m\u001b[43m(\u001b[49m\u001b[38;5;28;43mlist\u001b[39;49m\u001b[43m)\u001b[49m\u001b[38;5;132;01m}\u001b[39;00m\u001b[38;5;124m\"\u001b[39m)\n\u001b[0;32m      4\u001b[0m \u001b[38;5;28mprint\u001b[39m(\u001b[38;5;124mf\u001b[39m\u001b[38;5;124m\"\u001b[39m\u001b[38;5;124mMinimum in list is : \u001b[39m\u001b[38;5;132;01m{\u001b[39;00m\u001b[38;5;28mmin\u001b[39m(\u001b[38;5;28mlist\u001b[39m)\u001b[38;5;132;01m}\u001b[39;00m\u001b[38;5;124m\"\u001b[39m)\n\u001b[0;32m      5\u001b[0m \u001b[38;5;28mprint\u001b[39m(\u001b[38;5;28mlist\u001b[39m\u001b[38;5;241m.\u001b[39mpop())\n",
      "\u001b[1;31mTypeError\u001b[0m: 'int' object is not callable"
     ]
    }
   ],
   "source": [
    "list = [3, 5, 8, 1]\n",
    "print(f\"Maximum in list is : {max(list)}\")\n",
    "print(f\"sum of all element of list is : {sum(list)}\")\n",
    "print(f\"Minimum in list is : {min(list)}\")\n",
    "print(list.pop())"
   ]
  },
  {
   "cell_type": "code",
   "execution_count": 128,
   "id": "69d6e5a5-adc1-464c-aa3c-06b3c3cb63a6",
   "metadata": {},
   "outputs": [
    {
     "name": "stdout",
     "output_type": "stream",
     "text": [
      "who is good friend in list:  ['nitish', 'vishal']\n"
     ]
    }
   ],
   "source": [
    "list = [\"nitish\", \"vishal\", \"Rohit\", \"harikash\", \"Paras\"]\n",
    "\n",
    "print(\"who is good friend in list: \",list[0:2])"
   ]
  },
  {
   "cell_type": "code",
   "execution_count": 125,
   "id": "9f439cb5-a488-4ab6-bab2-93ec0a33ac36",
   "metadata": {},
   "outputs": [
    {
     "name": "stdout",
     "output_type": "stream",
     "text": [
      "['nitish', 'vishal', 'Rohit', 'harikash', 'Paras', 'mohit']\n"
     ]
    }
   ],
   "source": [
    "# extend add list in last\n",
    "list.extend([\"mohit\"])\n",
    "print(list)"
   ]
  },
  {
   "cell_type": "code",
   "execution_count": 129,
   "id": "1481feef-84e3-494a-87d3-87c885f47c24",
   "metadata": {},
   "outputs": [
    {
     "name": "stdout",
     "output_type": "stream",
     "text": [
      "who is good friend in list:  ['vishal', 'Rohit']\n"
     ]
    }
   ],
   "source": [
    "# remove element from list by remove\n",
    "list.remove(\"nitish\")\n",
    "print(\"who is good friend in list: \",list[0:2])"
   ]
  },
  {
   "cell_type": "code",
   "execution_count": 130,
   "id": "a9e3a033-529d-4114-9a5c-9b7125c4c042",
   "metadata": {},
   "outputs": [
    {
     "name": "stdout",
     "output_type": "stream",
     "text": [
      "['vishal', 'Rohit', 'harikash', 'Paras']\n"
     ]
    }
   ],
   "source": [
    "print(list)"
   ]
  },
  {
   "cell_type": "code",
   "execution_count": 133,
   "id": "0586c7da-2dd9-4c23-9530-7b647ef3b5f8",
   "metadata": {},
   "outputs": [
    {
     "name": "stdout",
     "output_type": "stream",
     "text": [
      "\n",
      "Enter your choice:\n",
      "1: Add to-do\n",
      "2: Remove to-do\n",
      "3: View all to-dos\n",
      "4: Exit\n"
     ]
    },
    {
     "name": "stdin",
     "output_type": "stream",
     "text": [
      "Enter your choice:  1\n",
      "Enter the to-do item:  hello world\n"
     ]
    },
    {
     "name": "stdout",
     "output_type": "stream",
     "text": [
      "\"hello world\" has been added to your to-do list.\n",
      "\n",
      "Enter your choice:\n",
      "1: Add to-do\n",
      "2: Remove to-do\n",
      "3: View all to-dos\n",
      "4: Exit\n"
     ]
    },
    {
     "name": "stdin",
     "output_type": "stream",
     "text": [
      "Enter your choice:  3\n"
     ]
    },
    {
     "name": "stdout",
     "output_type": "stream",
     "text": [
      "\n",
      "Your to-do list:\n",
      "1. hello world\n",
      "\n",
      "Enter your choice:\n",
      "1: Add to-do\n",
      "2: Remove to-do\n",
      "3: View all to-dos\n",
      "4: Exit\n"
     ]
    },
    {
     "name": "stdin",
     "output_type": "stream",
     "text": [
      "Enter your choice:  4\n"
     ]
    },
    {
     "name": "stdout",
     "output_type": "stream",
     "text": [
      "Exiting the program. Goodbye!\n"
     ]
    }
   ],
   "source": [
    "todo_list = []\n",
    "\n",
    "def add_todo(item):\n",
    "    todo_list.append(item)\n",
    "    print(f'\"{item}\" has been added to your to-do list.')\n",
    "\n",
    "def remove_todo(item):\n",
    "    if item in todo_list:\n",
    "        todo_list.remove(item)\n",
    "        print(f'\"{item}\" has been removed from your to-do list.')\n",
    "    else:\n",
    "        print(f'\"{item}\" is not in your to-do list.')\n",
    "\n",
    "\n",
    "def view_todos():\n",
    "    if todo_list:\n",
    "        print(\"\\nYour to-do list:\")\n",
    "        for idx, item in enumerate(todo_list, start=1):\n",
    "            print(f\"{idx}. {item}\")\n",
    "    else:\n",
    "        print(\"Your to-do list is empty.\")\n",
    "\n",
    "# Main program loop\n",
    "while True:\n",
    "    print(\"\\nEnter your choice:\")\n",
    "    print(\"1: Add to-do\")\n",
    "    print(\"2: Remove to-do\")\n",
    "    print(\"3: View all to-dos\")\n",
    "    print(\"4: Exit\")\n",
    "    \n",
    "    choice = input(\"Enter your choice: \")\n",
    "    \n",
    "    if choice == '1':\n",
    "        item = input(\"Enter the to-do item: \")\n",
    "        add_todo(item)\n",
    "    elif choice == '2':\n",
    "        item = input(\"Enter the to-do item to remove: \")\n",
    "        remove_todo(item)\n",
    "    elif choice == '3':\n",
    "        view_todos()\n",
    "    elif choice == '4':\n",
    "        print(\"Exiting the program. Goodbye!\")\n",
    "        break\n",
    "    else:\n",
    "        print(\"Invalid choice. Please enter a number between 1 and 4.\")\n"
   ]
  },
  {
   "cell_type": "code",
   "execution_count": 135,
   "id": "9581b51d-b9e7-4352-ab45-2c4226b09e57",
   "metadata": {},
   "outputs": [
    {
     "name": "stdout",
     "output_type": "stream",
     "text": [
      "('mango', 'apple')\n"
     ]
    }
   ],
   "source": [
    "fruits = (\"mango\",\"apple\")\n",
    "print(fruits)\n"
   ]
  },
  {
   "cell_type": "code",
   "execution_count": 137,
   "id": "415c4deb-040b-46b7-b1ae-b926d878fb87",
   "metadata": {},
   "outputs": [
    {
     "name": "stdout",
     "output_type": "stream",
     "text": [
      "{'eid': 1001, 'name': 'John doe', 'dept': 'CSE(AIML)', 'salary': 1000000}\n",
      "Employee name: 1001\n"
     ]
    }
   ],
   "source": [
    "#Dictionary\n",
    " \n",
    "employee = {\n",
    "    \"eid\" : 1001,\n",
    "    \"name\" : \"John doe\",\n",
    "    \"dept\" : \"CSE(AIML)\",\n",
    "    \"salary\" : 1000000\n",
    "}\n",
    " \n",
    "print(employee)\n",
    "print(\"Employee name:\", employee['eid'])"
   ]
  },
  {
   "cell_type": "code",
   "execution_count": 138,
   "id": "e5cda6dd-9e48-4b8e-a2d6-57c96af9fc0d",
   "metadata": {},
   "outputs": [
    {
     "name": "stdout",
     "output_type": "stream",
     "text": [
      "Manager: None\n",
      "Manager: Nisarga and Manushree\n"
     ]
    }
   ],
   "source": [
    "print(\"Manager:\" , employee.get('manager')) \n",
    "print(\"Manager:\" , employee.get('manager', \"Nisarga and Manushree\"))\n",
    " "
   ]
  },
  {
   "cell_type": "code",
   "execution_count": 140,
   "id": "c244257c-9cce-471d-8510-b13322c589be",
   "metadata": {},
   "outputs": [
    {
     "name": "stdout",
     "output_type": "stream",
     "text": [
      "('dept', 'CSE(AIML)') removed\n",
      "{'eid': 1001, 'name': 'John doe'}\n"
     ]
    }
   ],
   "source": [
    "data=employee.popitem()\n",
    "print(data, 'removed')\n",
    "print(employee)"
   ]
  },
  {
   "cell_type": "code",
   "execution_count": 142,
   "id": "35b7e0ae-f44f-4028-9e7c-03a58a6afa19",
   "metadata": {},
   "outputs": [
    {
     "name": "stdout",
     "output_type": "stream",
     "text": [
      "1001 removed\n",
      "{'name': 'John doe'}\n"
     ]
    }
   ],
   "source": [
    "data=employee.pop('eid')\n",
    "print(data, 'removed')\n",
    "print(employee)"
   ]
  },
  {
   "cell_type": "code",
   "execution_count": 144,
   "id": "6fc85893-888d-4ea1-98f2-253abe68789a",
   "metadata": {},
   "outputs": [
    {
     "name": "stdout",
     "output_type": "stream",
     "text": [
      "{'eid': 1006, 'name': 'Rhoit', 'dept': 'IT', 'salary': 100000067}\n"
     ]
    }
   ],
   "source": [
    "#Dictionary\n",
    " \n",
    "employee2 = {\n",
    "    \"eid\" : 1006,\n",
    "    \"name\" : \"Rhoit\",\n",
    "    \"dept\" : \"IT\",\n",
    "    \"salary\" : 100000067\n",
    "}\n",
    " \n",
    "print(employee2)\n",
    "# print(\"Employee name:\", employee['eid'])"
   ]
  },
  {
   "cell_type": "code",
   "execution_count": 147,
   "id": "19758068-5a4e-4605-9834-902a09c05ace",
   "metadata": {},
   "outputs": [
    {
     "name": "stdout",
     "output_type": "stream",
     "text": [
      "{'id': '101', 'name': 'Rhoit', 'email': 'Rhoit@gmail.com', 'address': 'us'}\n"
     ]
    }
   ],
   "source": [
    "student = {\n",
    "    \"id\" : \"101\", \n",
    "    \"name\" : \"Rhoit\",\n",
    "    \"email\" : \"Rhoit@gmail.com\",\n",
    "    \"address\" : \"us\"\n",
    "}\n",
    "print(student)"
   ]
  },
  {
   "cell_type": "code",
   "execution_count": 148,
   "id": "99d9752c-0e8f-418b-8aac-3ef451118d48",
   "metadata": {},
   "outputs": [
    {
     "name": "stdout",
     "output_type": "stream",
     "text": [
      "dict_items([('id', '101'), ('name', 'Rhoit'), ('email', 'Rhoit@gmail.com'), ('address', 'us')])\n"
     ]
    }
   ],
   "source": [
    "print(student.items())\n"
   ]
  },
  {
   "cell_type": "code",
   "execution_count": 149,
   "id": "ecd66d61-d0e8-44e4-8176-b63ec57c55ef",
   "metadata": {},
   "outputs": [
    {
     "name": "stdout",
     "output_type": "stream",
     "text": [
      "id : 101\n",
      "name : Rhoit\n",
      "email : Rhoit@gmail.com\n",
      "address : us\n"
     ]
    }
   ],
   "source": [
    "for key, value in student.items():\n",
    "    print(key,\":\",value)"
   ]
  },
  {
   "cell_type": "code",
   "execution_count": 150,
   "id": "1f4ca728-4229-4975-99bf-5e5839f9371f",
   "metadata": {},
   "outputs": [
    {
     "name": "stdout",
     "output_type": "stream",
     "text": [
      "address is present in student object\n"
     ]
    }
   ],
   "source": [
    "if \"address\" in student:\n",
    "    print(\"address is present in student object\")"
   ]
  },
  {
   "cell_type": "code",
   "execution_count": 156,
   "id": "2c29e0ce-cc6f-4c59-87ec-dcd9eebe4139",
   "metadata": {},
   "outputs": [
    {
     "name": "stdout",
     "output_type": "stream",
     "text": [
      "{1, 2, 3, 4, 5, 6, 7, 8}\n",
      "{1, 2, 3, 4, 5, 6, 7, 8}\n",
      "{3, 4, 5}\n",
      "{8, 1, 2}\n",
      "{1, 2, 6, 7, 8}\n"
     ]
    }
   ],
   "source": [
    "## SET\n",
    "a = {1,2,8,3,4,5}\n",
    "b = {3,4,5,6,7}\n",
    "\n",
    "#union\n",
    "print(a|b)\n",
    "print(a.union(b))\n",
    "\n",
    "#intersection\n",
    "print(a&b)\n",
    "\n",
    "# difference\n",
    "print(a - b)\n",
    "\n",
    "#symmetric difference  (unoin - intersection) \n",
    "print(a^b)"
   ]
  },
  {
   "cell_type": "code",
   "execution_count": 173,
   "id": "c7625edd-6323-4e27-a874-5a9e0b64a257",
   "metadata": {},
   "outputs": [
    {
     "name": "stdout",
     "output_type": "stream",
     "text": [
      "Employee \"Raman\"'s salary has been updated to 5000000.\n",
      "Employee \"Shayam\" has been removed from the company list.\n",
      "[{'name': 'Ram', 'salary': 365426}, {'name': 'Raman', 'salary': 5000000}, {'name': 'rohit', 'salary': 7216}]\n"
     ]
    }
   ],
   "source": [
    "company = [\n",
    "    {\n",
    "        \"name\" : \"Ram\",\n",
    "        \"salary\" : 365426\n",
    "    },\n",
    "    {\n",
    "        \"name\" : \"Raman\",\n",
    "        \"salary\" : 3654263213\n",
    "    },\n",
    "    {\n",
    "        \"name\" : \"Shayam\",\n",
    "        \"salary\" : 365\n",
    "    }\n",
    "]\n",
    "\n",
    "\n",
    "def add_employee(name,salary):\n",
    "    company.append(\n",
    "        {\n",
    "        \"name\" : name,\n",
    "        \"salary\" : salary\n",
    "        }\n",
    "    )\n",
    "        \n",
    "add_employee(\"rohit\",7216)\n",
    "\n",
    "def update_employee(name, new_salary):\n",
    "    for employee in company:\n",
    "        if employee[\"name\"] == name:\n",
    "            employee[\"salary\"] = new_salary\n",
    "            print(f'Employee \"{name}\"\\'s salary has been updated to {new_salary}.')\n",
    "            return\n",
    "    print(f'Employee \"{name}\" not found.')\n",
    "    \n",
    "update_employee(\"Raman\", 5000000)\n",
    "\n",
    "def remove_employee(name):\n",
    "    for employee in company:\n",
    "        if employee[\"name\"] == name:\n",
    "            company.remove(employee)\n",
    "            print(f'Employee \"{name}\" has been removed from the company list.')\n",
    "            return\n",
    "    print(f'Employee \"{name}\" not found.')\n",
    "    \n",
    "remove_employee(\"Shayam\")\n",
    "\n",
    "print(company)"
   ]
  },
  {
   "cell_type": "code",
   "execution_count": null,
   "id": "d453487f-f275-401a-b4ed-c5c14b2f6cf1",
   "metadata": {},
   "outputs": [],
   "source": []
  }
 ],
 "metadata": {
  "kernelspec": {
   "display_name": "Python 3 (ipykernel)",
   "language": "python",
   "name": "python3"
  },
  "language_info": {
   "codemirror_mode": {
    "name": "ipython",
    "version": 3
   },
   "file_extension": ".py",
   "mimetype": "text/x-python",
   "name": "python",
   "nbconvert_exporter": "python",
   "pygments_lexer": "ipython3",
   "version": "3.13.2"
  }
 },
 "nbformat": 4,
 "nbformat_minor": 5
}
