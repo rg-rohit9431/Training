{
 "cells": [
  {
   "cell_type": "code",
   "execution_count": 96,
   "id": "584e765b-8bd2-4db3-b238-5bc3543f00e8",
   "metadata": {},
   "outputs": [],
   "source": [
    "import numpy as np\n",
    "import pandas as pd\n",
    "import seaborn as sns\n",
    "import matplotlib.pyplot as plt"
   ]
  },
  {
   "cell_type": "code",
   "execution_count": 6,
   "id": "7e06c1f1-ada9-4342-90b0-64ce8c90aadb",
   "metadata": {},
   "outputs": [
    {
     "name": "stdout",
     "output_type": "stream",
     "text": [
      "[[1 2 3]\n",
      " [4 5 6]]\n"
     ]
    }
   ],
   "source": [
    "arr1 = np.array([[1,2,3],[4,5,6]])\n",
    "print(arr1)"
   ]
  },
  {
   "cell_type": "code",
   "execution_count": 7,
   "id": "c2358865-418a-474e-a87f-5e3e700559a1",
   "metadata": {},
   "outputs": [
    {
     "data": {
      "text/plain": [
       "(2, 3)"
      ]
     },
     "execution_count": 7,
     "metadata": {},
     "output_type": "execute_result"
    }
   ],
   "source": [
    "arr1.shape #row and column"
   ]
  },
  {
   "cell_type": "code",
   "execution_count": 8,
   "id": "c90a1279-16ff-4e87-a20d-666d2a9fbcd3",
   "metadata": {},
   "outputs": [
    {
     "data": {
      "text/plain": [
       "6"
      ]
     },
     "execution_count": 8,
     "metadata": {},
     "output_type": "execute_result"
    }
   ],
   "source": [
    "arr1.size"
   ]
  },
  {
   "cell_type": "code",
   "execution_count": 16,
   "id": "0b020981-8229-49bc-8770-ac56517dcbf1",
   "metadata": {},
   "outputs": [
    {
     "data": {
      "text/plain": [
       "array([[0., 0., 0., 0., 0., 0.],\n",
       "       [0., 0., 0., 0., 0., 0.]])"
      ]
     },
     "execution_count": 16,
     "metadata": {},
     "output_type": "execute_result"
    }
   ],
   "source": [
    "np.zeros((2,6)) # create matrix of 2,3 having zeros value"
   ]
  },
  {
   "cell_type": "code",
   "execution_count": 11,
   "id": "619f7d9c-41f2-4feb-b640-59edd461ee85",
   "metadata": {},
   "outputs": [
    {
     "data": {
      "text/plain": [
       "array([[1., 1., 1.],\n",
       "       [1., 1., 1.]])"
      ]
     },
     "execution_count": 11,
     "metadata": {},
     "output_type": "execute_result"
    }
   ],
   "source": [
    "np.ones((2,3)) # dot is here because number is float"
   ]
  },
  {
   "cell_type": "code",
   "execution_count": 17,
   "id": "61fefcbd-e8a6-4cf9-9a94-c64ecf52bb37",
   "metadata": {},
   "outputs": [
    {
     "data": {
      "text/plain": [
       "array([[0, 0, 0, 0, 0, 0],\n",
       "       [0, 0, 0, 0, 0, 0]])"
      ]
     },
     "execution_count": 17,
     "metadata": {},
     "output_type": "execute_result"
    }
   ],
   "source": [
    "np.zeros((2,6),dtype = int) "
   ]
  },
  {
   "cell_type": "code",
   "execution_count": 22,
   "id": "e36fdd5e-0e36-40d9-8c12-1c9abf2837f8",
   "metadata": {},
   "outputs": [
    {
     "name": "stdout",
     "output_type": "stream",
     "text": [
      "[1 4 7]\n"
     ]
    }
   ],
   "source": [
    "arr3 = np.arange(1,10,3) # here arange take three parameter in which\n",
    "# first number is start and second is last element where third help in increase with value\n",
    "print(arr3)"
   ]
  },
  {
   "cell_type": "code",
   "execution_count": 26,
   "id": "c4ff1471-28c0-41d5-a540-cc29f28caa3e",
   "metadata": {},
   "outputs": [
    {
     "name": "stdout",
     "output_type": "stream",
     "text": [
      "[[1 3 5 7 9]\n",
      " [1 3 5 7 9]]\n"
     ]
    }
   ],
   "source": [
    "sample_matrix = np.array([np.arange(1,10,2),np.arange(1,10,2)])\n",
    "print(sample_matrix)"
   ]
  },
  {
   "cell_type": "code",
   "execution_count": 27,
   "id": "54c44f4c-0f6f-461e-a6f7-92111517e0cc",
   "metadata": {},
   "outputs": [
    {
     "name": "stdout",
     "output_type": "stream",
     "text": [
      "[[ 1  9 25 49 81]\n",
      " [ 1  9 25 49 81]]\n"
     ]
    }
   ],
   "source": [
    "print(sample_matrix* sample_matrix)"
   ]
  },
  {
   "cell_type": "code",
   "execution_count": 28,
   "id": "5735805d-f702-41d8-b6f7-145208e7ac94",
   "metadata": {},
   "outputs": [
    {
     "name": "stdout",
     "output_type": "stream",
     "text": [
      "[[ 1  9 25 49 81]\n",
      " [ 1  9 25 49 81]]\n"
     ]
    }
   ],
   "source": [
    "print(sample_matrix**2)"
   ]
  },
  {
   "cell_type": "code",
   "execution_count": 32,
   "id": "583327b1-e3ff-4e97-9a3a-b85e4c8bd87a",
   "metadata": {},
   "outputs": [],
   "source": [
    "purchase = np.array([\n",
    "    [200,30,45],\n",
    "    [200,30,45],\n",
    "    [200,30,45],\n",
    "    [200,30,45]\n",
    "])\n",
    "\n",
    "total_spent= purchase.sum(axis = 1)"
   ]
  },
  {
   "cell_type": "code",
   "execution_count": 33,
   "id": "b1d1d309-e573-4c04-af24-2b8913fd250e",
   "metadata": {},
   "outputs": [
    {
     "name": "stdout",
     "output_type": "stream",
     "text": [
      "[275 275 275 275]\n"
     ]
    }
   ],
   "source": [
    "print(total_spent)\n"
   ]
  },
  {
   "cell_type": "code",
   "execution_count": 34,
   "id": "62df82b5-775d-456b-89c8-442f57ddb1cd",
   "metadata": {},
   "outputs": [],
   "source": [
    "average_spent = purchase.mean(axis = 1)"
   ]
  },
  {
   "cell_type": "code",
   "execution_count": 40,
   "id": "b293b621-d5ad-4088-8e59-3dcd958096cd",
   "metadata": {},
   "outputs": [
    {
     "name": "stdout",
     "output_type": "stream",
     "text": [
      "[91.66666667 91.66666667 91.66666667 91.66666667]\n"
     ]
    }
   ],
   "source": [
    "print(average_spent)\n"
   ]
  },
  {
   "cell_type": "code",
   "execution_count": 47,
   "id": "19c28fab-7f70-4229-850f-d416f0faec8a",
   "metadata": {},
   "outputs": [
    {
     "name": "stdout",
     "output_type": "stream",
     "text": [
      "solution (x,y): [2.2 1.2]\n"
     ]
    }
   ],
   "source": [
    "# 2x + 3y = 8\n",
    "# 4x + y = 10\n",
    "a = np.array([[2,3],[4,1]])\n",
    "b = np.array([8,10])\n",
    "\n",
    "solution = np.linalg.solve(a,b)\n",
    "\n",
    "print(f\"solution (x,y): {solution}\")"
   ]
  },
  {
   "cell_type": "code",
   "execution_count": 50,
   "id": "d70a808e-4a14-4023-8cc4-5babc38c4014",
   "metadata": {},
   "outputs": [
    {
     "name": "stdout",
     "output_type": "stream",
     "text": [
      "489043\n"
     ]
    }
   ],
   "source": [
    "sales = np.array([10,20,320,101,12,20,487236,456,434,434])\n",
    "total_sum = sales.sum()\n",
    "print(total_sum)"
   ]
  },
  {
   "cell_type": "code",
   "execution_count": 51,
   "id": "d46014d7-5d90-44fb-ac8f-a38c83b28758",
   "metadata": {},
   "outputs": [
    {
     "name": "stdout",
     "output_type": "stream",
     "text": [
      "48904.3\n"
     ]
    }
   ],
   "source": [
    "avg_sum = total_sum / len(sales)\n",
    "print(avg_sum)"
   ]
  },
  {
   "cell_type": "code",
   "execution_count": 52,
   "id": "0a236623-c251-4f5c-a523-501e085db6bc",
   "metadata": {},
   "outputs": [
    {
     "name": "stdout",
     "output_type": "stream",
     "text": [
      "highest : 487236  and lowest : 10\n"
     ]
    }
   ],
   "source": [
    "high_sale = sales.max()\n",
    "lowest_sale = sales.min()\n",
    "\n",
    "print(f\"highest : {high_sale}  and lowest : {lowest_sale}\")"
   ]
  },
  {
   "cell_type": "code",
   "execution_count": 55,
   "id": "67ef6a49-8a85-48e6-9044-a9d47b75964d",
   "metadata": {},
   "outputs": [
    {
     "name": "stdout",
     "output_type": "stream",
     "text": [
      "this is value greater than avg: 487236\n"
     ]
    }
   ],
   "source": [
    "for i  in sales : \n",
    "    if i > avg_sum:\n",
    "        print(f\"this is value greater than avg: {i}\")\n",
    "        "
   ]
  },
  {
   "cell_type": "code",
   "execution_count": 62,
   "id": "8b97d1b2-e72d-4968-bc75-1f926bc8a54b",
   "metadata": {},
   "outputs": [
    {
     "name": "stdout",
     "output_type": "stream",
     "text": [
      "[487236]\n"
     ]
    }
   ],
   "source": [
    "print(sales[sales >avg_sum])"
   ]
  },
  {
   "cell_type": "code",
   "execution_count": 63,
   "id": "42fd2651-5489-4fa7-b0b5-07739a00e3d3",
   "metadata": {},
   "outputs": [
    {
     "name": "stdout",
     "output_type": "stream",
     "text": [
      "[1.100000e+01 1.320000e+01 2.200000e+01 2.200000e+01 1.111000e+02\n",
      " 3.520000e+02 4.774000e+02 4.774000e+02 5.016000e+02 5.359596e+05]\n"
     ]
    }
   ],
   "source": [
    "updated = sales * 1.1\n",
    "new_sales = np.array(updated)\n",
    "\n",
    "print(new_sales)"
   ]
  },
  {
   "cell_type": "code",
   "execution_count": 58,
   "id": "57955e09-6fe2-4adb-bb8d-b02dd861ec55",
   "metadata": {},
   "outputs": [],
   "source": [
    "sales.sort()"
   ]
  },
  {
   "cell_type": "code",
   "execution_count": 72,
   "id": "3f9ec3b3-ca79-4043-959c-e429f54acc8d",
   "metadata": {},
   "outputs": [
    {
     "name": "stdout",
     "output_type": "stream",
     "text": [
      "[    10     12     20     20    101    320    434    434    456 487236]\n"
     ]
    }
   ],
   "source": [
    "print(sales)"
   ]
  },
  {
   "cell_type": "code",
   "execution_count": 74,
   "id": "d3395873-b369-4e05-9e37-d77259b7d13f",
   "metadata": {},
   "outputs": [
    {
     "name": "stdout",
     "output_type": "stream",
     "text": [
      "[100]\n"
     ]
    }
   ],
   "source": [
    "data = np.array([10,12,14,15,18,21,25,100])\n",
    "\n",
    "q1  = np.percentile(data,25)\n",
    "q2  = np.percentile(data,75)\n",
    "\n",
    "iqr = q2 - q1\n",
    "\n",
    "lower_bound = q1 - 1.5 * iqr\n",
    "upper_bound = q1 + 1.5 * iqr\n",
    "\n",
    "outliers = data[(data < lower_bound) | (data > upper_bound)]\n",
    "\n",
    "print(outliers)"
   ]
  },
  {
   "cell_type": "code",
   "execution_count": 76,
   "id": "33d18088-c7c6-4f00-b8af-721cda2feddd",
   "metadata": {},
   "outputs": [
    {
     "name": "stdout",
     "output_type": "stream",
     "text": [
      "matplotlib\n"
     ]
    },
    {
     "data": {
      "image/png": "[encoded data removed]",
      "text/plain": [
       "<Figure size 1000x600 with 1 Axes>"
      ]
     },
     "metadata": {},
     "output_type": "display_data"
    }
   ],
   "source": [
    "\n",
    "\n",
    "print(plt.__package__)\n",
    " \n",
    "plt.figure(figsize=(10,6))\n",
    "\n",
    "x=[1,2,3,4,5]\n",
    "\n",
    "y=[10,20,25,30,40]\n",
    "\n",
    "plt.plot(x,y,marker='o',linestyle='-',color='b')\n",
    "\n",
    "plt.xlabel(\"X-axis\")\n",
    "\n",
    "plt.ylabel(\"y-lable\")\n",
    "\n",
    "plt.title(\"Line Plot\")\n",
    "\n",
    "plt.grid()\n",
    "\n",
    "plt.show()\n",
    " "
   ]
  },
  {
   "cell_type": "code",
   "execution_count": 78,
   "id": "f9f43509-4e6e-4637-a387-2eb57388978b",
   "metadata": {},
   "outputs": [
    {
     "data": {
      "image/png": "[encoded data removed]",
      "text/plain": [
       "<Figure size 640x480 with 1 Axes>"
      ]
     },
     "metadata": {},
     "output_type": "display_data"
    }
   ],
   "source": [
    "categories = ['A', 'B', 'C','D']\n",
    "values = [5,7,3,8]\n",
    "\n",
    "# Create bar graph\n",
    "plt.bar(categories, values)\n",
    "\n",
    "# Add title and labels\n",
    "plt.title('Bar Graph of Categories and Values')\n",
    "plt.xlabel('Categories')\n",
    "plt.ylabel('Values')\n",
    "\n",
    "# Show the plot\n",
    "plt.show()"
   ]
  },
  {
   "cell_type": "code",
   "execution_count": 80,
   "id": "070b6fbf-bf1c-44ca-aa58-0d00da368548",
   "metadata": {},
   "outputs": [
    {
     "data": {
      "image/png": "[encoded data removed]",
      "text/plain": [
       "<Figure size 640x480 with 1 Axes>"
      ]
     },
     "metadata": {},
     "output_type": "display_data"
    }
   ],
   "source": [
    "data = np.random.randn(1000)\n",
    "plt.hist(data,bins = 30,color ='purple',edgecolor='black')\n",
    "plt.xlabel('bins')\n",
    "plt.ylabel('frequency')\n",
    "plt.title('histogram example')\n",
    "plt.show()\n"
   ]
  },
  {
   "cell_type": "code",
   "execution_count": 89,
   "id": "27baca4f-3ea7-45c5-b1ab-603941906f76",
   "metadata": {},
   "outputs": [
    {
     "data": {
      "image/png": "[encoded data removed]",
      "text/plain": [
       "<Figure size 640x480 with 1 Axes>"
      ]
     },
     "metadata": {},
     "output_type": "display_data"
    }
   ],
   "source": [
    "sizes =[20,30,25,45]\n",
    "labels= ['python','java','c++','javascript']\n",
    "color = ['blue','orange','white','green']\n",
    "plt.pie(sizes, labels=labels,colors=color,autopct='%1.1f%%')\n",
    "plt.show()"
   ]
  },
  {
   "cell_type": "code",
   "execution_count": 95,
   "id": "8f1c6e86-ed86-4336-bbe0-c4fa03f27c3c",
   "metadata": {},
   "outputs": [
    {
     "data": {
      "image/png": "[encoded data removed]",
      "text/plain": [
       "<Figure size 640x480 with 1 Axes>"
      ]
     },
     "metadata": {},
     "output_type": "display_data"
    }
   ],
   "source": [
    "data = pd.DataFrame({\n",
    "    \"x\": [1,2,3,4,5],\n",
    "    \"y\": [10,20,15,20,50]\n",
    "})\n",
    "\n",
    "sns.lineplot(x= \"x\",y=\"y\",data= data,color =\"pink\")\n",
    "plt.title(\"seaborn plot\")\n",
    "plt.show()"
   ]
  },
  {
   "cell_type": "code",
   "execution_count": null,
   "id": "e7dfa51e-0140-4fa3-aa28-48895b221d51",
   "metadata": {},
   "outputs": [],
   "source": []
  }
 ],
 "metadata": {
  "kernelspec": {
   "display_name": "Python 3 (ipykernel)",
   "language": "python",
   "name": "python3"
  },
  "language_info": {
   "codemirror_mode": {
    "name": "ipython",
    "version": 3
   },
   "file_extension": ".py",
   "mimetype": "text/x-python",
   "name": "python",
   "nbconvert_exporter": "python",
   "pygments_lexer": "ipython3",
   "version": "3.13.2"
  }
 },
 "nbformat": 4,
 "nbformat_minor": 5
}
